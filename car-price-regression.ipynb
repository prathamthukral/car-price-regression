{
 "cells": [
  {
   "cell_type": "code",
   "execution_count": 1,
   "metadata": {
    "_cell_guid": "b1076dfc-b9ad-4769-8c92-a6c4dae69d19",
    "_uuid": "8f2839f25d086af736a60e9eeb907d3b93b6e0e5",
    "execution": {
     "iopub.execute_input": "2021-07-31T18:21:40.614210Z",
     "iopub.status.busy": "2021-07-31T18:21:40.613767Z",
     "iopub.status.idle": "2021-07-31T18:21:41.676203Z",
     "shell.execute_reply": "2021-07-31T18:21:41.674903Z",
     "shell.execute_reply.started": "2021-07-31T18:21:40.614121Z"
    }
   },
   "outputs": [],
   "source": [
    "# This Python 3 environment comes with many helpful analytics libraries installed\n",
    "# It is defined by the kaggle/python Docker image: https://github.com/kaggle/docker-python\n",
    "# For example, here's several helpful packages to load\n",
    "\n",
    "import numpy as np # linear algebra\n",
    "import pandas as pd # data processing, CSV file I/O (e.g. pd.read_csv)\n",
    "import matplotlib.pyplot as plt\n",
    "import seaborn as sns"
   ]
  },
  {
   "cell_type": "code",
   "execution_count": 2,
   "metadata": {
    "execution": {
     "iopub.execute_input": "2021-07-31T18:35:46.158393Z",
     "iopub.status.busy": "2021-07-31T18:35:46.157977Z",
     "iopub.status.idle": "2021-07-31T18:35:46.206058Z",
     "shell.execute_reply": "2021-07-31T18:35:46.204781Z",
     "shell.execute_reply.started": "2021-07-31T18:35:46.158358Z"
    }
   },
   "outputs": [
    {
     "data": {
      "text/html": [
       "<div>\n",
       "<style scoped>\n",
       "    .dataframe tbody tr th:only-of-type {\n",
       "        vertical-align: middle;\n",
       "    }\n",
       "\n",
       "    .dataframe tbody tr th {\n",
       "        vertical-align: top;\n",
       "    }\n",
       "\n",
       "    .dataframe thead th {\n",
       "        text-align: right;\n",
       "    }\n",
       "</style>\n",
       "<table border=\"1\" class=\"dataframe\">\n",
       "  <thead>\n",
       "    <tr style=\"text-align: right;\">\n",
       "      <th></th>\n",
       "      <th>name</th>\n",
       "      <th>year</th>\n",
       "      <th>selling_price</th>\n",
       "      <th>km_driven</th>\n",
       "      <th>fuel</th>\n",
       "      <th>seller_type</th>\n",
       "      <th>transmission</th>\n",
       "      <th>owner</th>\n",
       "      <th>engine</th>\n",
       "      <th>max_power</th>\n",
       "      <th>seats</th>\n",
       "    </tr>\n",
       "  </thead>\n",
       "  <tbody>\n",
       "    <tr>\n",
       "      <th>0</th>\n",
       "      <td>Maruti Swift Dzire VDI</td>\n",
       "      <td>2014</td>\n",
       "      <td>450000</td>\n",
       "      <td>145500</td>\n",
       "      <td>Diesel</td>\n",
       "      <td>Individual</td>\n",
       "      <td>Manual</td>\n",
       "      <td>First Owner</td>\n",
       "      <td>1248 CC</td>\n",
       "      <td>74 bhp</td>\n",
       "      <td>5.0</td>\n",
       "    </tr>\n",
       "    <tr>\n",
       "      <th>1</th>\n",
       "      <td>Skoda Rapid 1.5 TDI Ambition</td>\n",
       "      <td>2014</td>\n",
       "      <td>370000</td>\n",
       "      <td>120000</td>\n",
       "      <td>Diesel</td>\n",
       "      <td>Individual</td>\n",
       "      <td>Manual</td>\n",
       "      <td>Second Owner</td>\n",
       "      <td>1498 CC</td>\n",
       "      <td>103.52 bhp</td>\n",
       "      <td>5.0</td>\n",
       "    </tr>\n",
       "    <tr>\n",
       "      <th>2</th>\n",
       "      <td>Honda City 2017-2020 EXi</td>\n",
       "      <td>2006</td>\n",
       "      <td>158000</td>\n",
       "      <td>140000</td>\n",
       "      <td>Petrol</td>\n",
       "      <td>Individual</td>\n",
       "      <td>Manual</td>\n",
       "      <td>Third Owner</td>\n",
       "      <td>1497 CC</td>\n",
       "      <td>78 bhp</td>\n",
       "      <td>5.0</td>\n",
       "    </tr>\n",
       "    <tr>\n",
       "      <th>3</th>\n",
       "      <td>Hyundai i20 Sportz Diesel</td>\n",
       "      <td>2010</td>\n",
       "      <td>225000</td>\n",
       "      <td>127000</td>\n",
       "      <td>Diesel</td>\n",
       "      <td>Individual</td>\n",
       "      <td>Manual</td>\n",
       "      <td>First Owner</td>\n",
       "      <td>1396 CC</td>\n",
       "      <td>90 bhp</td>\n",
       "      <td>5.0</td>\n",
       "    </tr>\n",
       "    <tr>\n",
       "      <th>4</th>\n",
       "      <td>Maruti Swift VXI BSIII</td>\n",
       "      <td>2007</td>\n",
       "      <td>130000</td>\n",
       "      <td>120000</td>\n",
       "      <td>Petrol</td>\n",
       "      <td>Individual</td>\n",
       "      <td>Manual</td>\n",
       "      <td>First Owner</td>\n",
       "      <td>1298 CC</td>\n",
       "      <td>88.2 bhp</td>\n",
       "      <td>5.0</td>\n",
       "    </tr>\n",
       "  </tbody>\n",
       "</table>\n",
       "</div>"
      ],
      "text/plain": [
       "                           name  year  selling_price  km_driven    fuel  \\\n",
       "0        Maruti Swift Dzire VDI  2014         450000     145500  Diesel   \n",
       "1  Skoda Rapid 1.5 TDI Ambition  2014         370000     120000  Diesel   \n",
       "2      Honda City 2017-2020 EXi  2006         158000     140000  Petrol   \n",
       "3     Hyundai i20 Sportz Diesel  2010         225000     127000  Diesel   \n",
       "4        Maruti Swift VXI BSIII  2007         130000     120000  Petrol   \n",
       "\n",
       "  seller_type transmission         owner   engine   max_power  seats  \n",
       "0  Individual       Manual   First Owner  1248 CC      74 bhp    5.0  \n",
       "1  Individual       Manual  Second Owner  1498 CC  103.52 bhp    5.0  \n",
       "2  Individual       Manual   Third Owner  1497 CC      78 bhp    5.0  \n",
       "3  Individual       Manual   First Owner  1396 CC      90 bhp    5.0  \n",
       "4  Individual       Manual   First Owner  1298 CC    88.2 bhp    5.0  "
      ]
     },
     "execution_count": 2,
     "metadata": {},
     "output_type": "execute_result"
    }
   ],
   "source": [
    "# largest dataset\n",
    "df = pd.read_csv('Car details v3.csv')\n",
    "df.drop(['torque', 'mileage'], inplace=True, axis=1)\n",
    "df.head()"
   ]
  },
  {
   "cell_type": "code",
   "execution_count": 3,
   "metadata": {
    "execution": {
     "iopub.execute_input": "2021-07-31T18:35:50.826545Z",
     "iopub.status.busy": "2021-07-31T18:35:50.826177Z",
     "iopub.status.idle": "2021-07-31T18:35:50.851806Z",
     "shell.execute_reply": "2021-07-31T18:35:50.850717Z",
     "shell.execute_reply.started": "2021-07-31T18:35:50.826514Z"
    }
   },
   "outputs": [],
   "source": [
    "# manufacturer from truncated name\n",
    "df['manufacturer'] = df['name'].apply(lambda s : s.split(\" \")[0])\n",
    "df['manufacturer_and_model'] = df['name'].apply(lambda s : s.split(\" \")[0]+\" \"+s.split(\" \")[1])"
   ]
  },
  {
   "cell_type": "code",
   "execution_count": 4,
   "metadata": {
    "execution": {
     "iopub.execute_input": "2021-07-31T18:35:52.083557Z",
     "iopub.status.busy": "2021-07-31T18:35:52.083209Z",
     "iopub.status.idle": "2021-07-31T18:35:52.091843Z",
     "shell.execute_reply": "2021-07-31T18:35:52.090724Z",
     "shell.execute_reply.started": "2021-07-31T18:35:52.083529Z"
    }
   },
   "outputs": [
    {
     "data": {
      "text/plain": [
       "name                       object\n",
       "year                        int64\n",
       "selling_price               int64\n",
       "km_driven                   int64\n",
       "fuel                       object\n",
       "seller_type                object\n",
       "transmission               object\n",
       "owner                      object\n",
       "engine                     object\n",
       "max_power                  object\n",
       "seats                     float64\n",
       "manufacturer               object\n",
       "manufacturer_and_model     object\n",
       "dtype: object"
      ]
     },
     "execution_count": 4,
     "metadata": {},
     "output_type": "execute_result"
    }
   ],
   "source": [
    "df.dtypes"
   ]
  },
  {
   "cell_type": "code",
   "execution_count": 5,
   "metadata": {
    "execution": {
     "iopub.execute_input": "2021-07-31T18:35:54.883928Z",
     "iopub.status.busy": "2021-07-31T18:35:54.883555Z",
     "iopub.status.idle": "2021-07-31T18:35:54.915950Z",
     "shell.execute_reply": "2021-07-31T18:35:54.914899Z",
     "shell.execute_reply.started": "2021-07-31T18:35:54.883897Z"
    }
   },
   "outputs": [
    {
     "data": {
      "text/plain": [
       "name                      2058\n",
       "year                        29\n",
       "selling_price              677\n",
       "km_driven                  921\n",
       "fuel                         4\n",
       "seller_type                  3\n",
       "transmission                 2\n",
       "owner                        5\n",
       "engine                     121\n",
       "max_power                  322\n",
       "seats                        9\n",
       "manufacturer                32\n",
       "manufacturer_and_model     210\n",
       "dtype: int64"
      ]
     },
     "execution_count": 5,
     "metadata": {},
     "output_type": "execute_result"
    }
   ],
   "source": [
    "df.nunique()"
   ]
  },
  {
   "cell_type": "code",
   "execution_count": 6,
   "metadata": {
    "execution": {
     "iopub.execute_input": "2021-07-31T18:35:57.515963Z",
     "iopub.status.busy": "2021-07-31T18:35:57.515615Z",
     "iopub.status.idle": "2021-07-31T18:35:57.536095Z",
     "shell.execute_reply": "2021-07-31T18:35:57.534879Z",
     "shell.execute_reply.started": "2021-07-31T18:35:57.515934Z"
    }
   },
   "outputs": [
    {
     "data": {
      "text/plain": [
       "name                        0\n",
       "year                        0\n",
       "selling_price               0\n",
       "km_driven                   0\n",
       "fuel                        0\n",
       "seller_type                 0\n",
       "transmission                0\n",
       "owner                       0\n",
       "engine                    221\n",
       "max_power                 215\n",
       "seats                     221\n",
       "manufacturer                0\n",
       "manufacturer_and_model      0\n",
       "dtype: int64"
      ]
     },
     "execution_count": 6,
     "metadata": {},
     "output_type": "execute_result"
    }
   ],
   "source": [
    "df.isna().sum()"
   ]
  },
  {
   "cell_type": "code",
   "execution_count": 7,
   "metadata": {
    "execution": {
     "iopub.execute_input": "2021-07-31T18:36:03.878059Z",
     "iopub.status.busy": "2021-07-31T18:36:03.877397Z",
     "iopub.status.idle": "2021-07-31T18:36:04.844636Z",
     "shell.execute_reply": "2021-07-31T18:36:04.843602Z",
     "shell.execute_reply.started": "2021-07-31T18:36:03.877988Z"
    }
   },
   "outputs": [
    {
     "data": {
      "text/plain": [
       "<function matplotlib.pyplot.show(close=None, block=None)>"
      ]
     },
     "execution_count": 7,
     "metadata": {},
     "output_type": "execute_result"
    },
    {
     "data": {
      "image/png": "[encoded data removed]",
      "text/plain": [
       "<Figure size 1080x2160 with 5 Axes>"
      ]
     },
     "metadata": {
      "needs_background": "light"
     },
     "output_type": "display_data"
    }
   ],
   "source": [
    "cols = ['fuel', 'seller_type', 'transmission', 'owner', 'seats']\n",
    "axs = [None]*len(cols)\n",
    "fig, (axs) = plt.subplots(len(cols), 1)\n",
    "\n",
    "fig.set_figwidth(15)\n",
    "fig.set_figheight(30)\n",
    "\n",
    "for i in range(len(cols)):\n",
    "    sns.histplot(data=df[cols[i]], ax=axs[i])    \n",
    "\n",
    "plt.show"
   ]
  },
  {
   "cell_type": "code",
   "execution_count": 8,
   "metadata": {
    "execution": {
     "iopub.execute_input": "2021-07-31T18:37:06.374143Z",
     "iopub.status.busy": "2021-07-31T18:37:06.373757Z",
     "iopub.status.idle": "2021-07-31T18:37:06.380193Z",
     "shell.execute_reply": "2021-07-31T18:37:06.378981Z",
     "shell.execute_reply.started": "2021-07-31T18:37:06.374113Z"
    }
   },
   "outputs": [],
   "source": [
    "# cleaning\n",
    "convert_to_numerical = ['engine', 'max_power'] # convert\n",
    "impute_cols = ['engine', 'max_power', 'seats'] # impute\n",
    "numerical_cols = ['year', 'km_driven', 'engine', 'max_power', 'seats']\n",
    "\n",
    "categorical_cols = ['fuel', 'seller_type', 'transmission', 'owner', 'manufacturer'] # onehot\n",
    "categorical_cols_2 = ['fuel', 'seller_type', 'transmission', 'owner', 'manufacturer_and_name'] # onehot (manufacturer w/ name)"
   ]
  },
  {
   "cell_type": "code",
   "execution_count": 9,
   "metadata": {
    "execution": {
     "iopub.execute_input": "2021-07-31T18:37:09.644943Z",
     "iopub.status.busy": "2021-07-31T18:37:09.644572Z",
     "iopub.status.idle": "2021-07-31T18:37:09.681329Z",
     "shell.execute_reply": "2021-07-31T18:37:09.680242Z",
     "shell.execute_reply.started": "2021-07-31T18:37:09.644914Z"
    }
   },
   "outputs": [
    {
     "data": {
      "text/plain": [
       "name                       object\n",
       "year                        int64\n",
       "selling_price               int64\n",
       "km_driven                   int64\n",
       "fuel                       object\n",
       "seller_type                object\n",
       "transmission               object\n",
       "owner                      object\n",
       "engine                    float64\n",
       "max_power                 float64\n",
       "seats                     float64\n",
       "manufacturer               object\n",
       "manufacturer_and_model     object\n",
       "dtype: object"
      ]
     },
     "execution_count": 9,
     "metadata": {},
     "output_type": "execute_result"
    }
   ],
   "source": [
    "# convert\n",
    "df[convert_to_numerical[0]] = df[convert_to_numerical[0]].apply(lambda s: s if isinstance(s, float) else float(s.split(\" \")[0]))\n",
    "\n",
    "def max_power(s):\n",
    "    if isinstance(s, float):\n",
    "        return float(s)\n",
    "    elif \" bhp\" in s:\n",
    "        s = s.split(\" \")[0]\n",
    "        return float(s) if s!=\"\" else float(0)\n",
    "    else:\n",
    "        return float(0)\n",
    "    \n",
    "df[convert_to_numerical[1]] = df[convert_to_numerical[1]].apply(lambda s : max_power(s))\n",
    "\n",
    "df.dtypes"
   ]
  },
  {
   "cell_type": "code",
   "execution_count": 10,
   "metadata": {
    "execution": {
     "iopub.execute_input": "2021-07-31T18:56:38.151140Z",
     "iopub.status.busy": "2021-07-31T18:56:38.150776Z",
     "iopub.status.idle": "2021-07-31T18:56:38.158549Z",
     "shell.execute_reply": "2021-07-31T18:56:38.157406Z",
     "shell.execute_reply.started": "2021-07-31T18:56:38.151110Z"
    }
   },
   "outputs": [],
   "source": [
    "# preprocessing\n",
    "from sklearn.compose import ColumnTransformer\n",
    "from sklearn.pipeline import Pipeline\n",
    "from sklearn.preprocessing import OneHotEncoder\n",
    "from sklearn.impute import SimpleImputer\n",
    "from sklearn.preprocessing import StandardScaler\n",
    "\n",
    "numerical_transformer = Pipeline(steps=[\n",
    "    ('impute', SimpleImputer()),\n",
    "    ('standardscaler', StandardScaler())\n",
    "])\n",
    "\n",
    "categorical_transformer = Pipeline(steps=[\n",
    "    ('onehot', OneHotEncoder(handle_unknown='ignore'))\n",
    "])\n",
    "\n",
    "preprocessor = ColumnTransformer(\n",
    "    transformers=[\n",
    "        ('nums', numerical_transformer, numerical_cols),\n",
    "        ('cat', categorical_transformer, categorical_cols)\n",
    "    ]\n",
    ")"
   ]
  },
  {
   "cell_type": "code",
   "execution_count": 11,
   "metadata": {
    "execution": {
     "iopub.execute_input": "2021-07-31T18:56:41.315069Z",
     "iopub.status.busy": "2021-07-31T18:56:41.314581Z",
     "iopub.status.idle": "2021-07-31T18:56:41.329240Z",
     "shell.execute_reply": "2021-07-31T18:56:41.328188Z",
     "shell.execute_reply.started": "2021-07-31T18:56:41.315020Z"
    }
   },
   "outputs": [],
   "source": [
    "from sklearn.model_selection import train_test_split\n",
    "X = df[numerical_cols+categorical_cols]\n",
    "y = df[['selling_price']]\n",
    "X_train, X_valid, y_train, y_valid = train_test_split(X, y, train_size=0.8, test_size=0.2, random_state=0)"
   ]
  },
  {
   "cell_type": "code",
   "execution_count": 14,
   "metadata": {
    "execution": {
     "iopub.execute_input": "2021-07-31T18:56:42.323760Z",
     "iopub.status.busy": "2021-07-31T18:56:42.323315Z",
     "iopub.status.idle": "2021-07-31T18:56:42.329532Z",
     "shell.execute_reply": "2021-07-31T18:56:42.328520Z",
     "shell.execute_reply.started": "2021-07-31T18:56:42.323727Z"
    }
   },
   "outputs": [],
   "source": [
    "from sklearn.linear_model import LinearRegression\n",
    "from sklearn.linear_model import SGDRegressor\n",
    "from sklearn.tree import DecisionTreeRegressor\n",
    "from sklearn.svm import LinearSVR\n",
    "from sklearn.ensemble import RandomForestRegressor\n",
    "import xgboost as xgb"
   ]
  },
  {
   "cell_type": "code",
   "execution_count": 17,
   "metadata": {
    "execution": {
     "iopub.execute_input": "2021-07-31T18:57:36.626584Z",
     "iopub.status.busy": "2021-07-31T18:57:36.626216Z",
     "iopub.status.idle": "2021-07-31T18:57:36.635628Z",
     "shell.execute_reply": "2021-07-31T18:57:36.634489Z",
     "shell.execute_reply.started": "2021-07-31T18:57:36.626554Z"
    }
   },
   "outputs": [],
   "source": [
    "lr_1 = LinearRegression(n_jobs=2)\n",
    "lr_2 = LinearRegression(normalize=True, n_jobs=2)\n",
    "\n",
    "sgd_1 = SGDRegressor(loss='squared_loss')\n",
    "sgd_2 = SGDRegressor(loss='huber', max_iter=2000)\n",
    "sgd_3 = SGDRegressor(loss='epsilon_insensitive', max_iter=2000)\n",
    "\n",
    "dtr_1 = DecisionTreeRegressor(criterion='mse')\n",
    "dtr_2 = DecisionTreeRegressor(criterion='mae')\n",
    "\n",
    "svr_1 = LinearSVR()\n",
    "\n",
    "rf_1 = RandomForestRegressor(n_estimators = 100, n_jobs=2)\n",
    "rf_2 = RandomForestRegressor(n_estimators = 150, n_jobs=2)\n",
    "rf_3 = RandomForestRegressor(n_estimators = 200, n_jobs=2)\n",
    "\n",
    "xg_reg = xgb.XGBRegressor(objective ='reg:squarederror')\n",
    "\n",
    "models = [\n",
    "    lr_1,\n",
    "    lr_2,\n",
    "    sgd_1,\n",
    "    sgd_2,\n",
    "    sgd_3,\n",
    "    dtr_1,\n",
    "    dtr_2,\n",
    "    svr_1,\n",
    "    rf_1,\n",
    "    rf_2,\n",
    "    rf_3,\n",
    "    xg_reg\n",
    "]"
   ]
  },
  {
   "cell_type": "code",
   "execution_count": 18,
   "metadata": {
    "execution": {
     "iopub.execute_input": "2021-07-31T18:57:37.488059Z",
     "iopub.status.busy": "2021-07-31T18:57:37.487492Z",
     "iopub.status.idle": "2021-07-31T18:58:28.809843Z",
     "shell.execute_reply": "2021-07-31T18:58:28.808689Z",
     "shell.execute_reply.started": "2021-07-31T18:57:37.488024Z"
    }
   },
   "outputs": [
    {
     "name": "stdout",
     "output_type": "stream",
     "text": [
      "LinearRegression(n_jobs=2)\n",
      "LinearRegression(n_jobs=2, normalize=True)\n",
      "SGDRegressor()\n",
      "SGDRegressor(loss='huber', max_iter=2000)\n"
     ]
    },
    {
     "name": "stderr",
     "output_type": "stream",
     "text": [
      "C:\\ProgramData\\Anaconda3\\lib\\site-packages\\sklearn\\linear_model\\_stochastic_gradient.py:1220: ConvergenceWarning: Maximum number of iteration reached before convergence. Consider increasing max_iter to improve the fit.\n",
      "  warnings.warn(\"Maximum number of iteration reached before \"\n"
     ]
    },
    {
     "name": "stdout",
     "output_type": "stream",
     "text": [
      "SGDRegressor(loss='epsilon_insensitive', max_iter=2000)\n"
     ]
    },
    {
     "name": "stderr",
     "output_type": "stream",
     "text": [
      "C:\\ProgramData\\Anaconda3\\lib\\site-packages\\sklearn\\linear_model\\_stochastic_gradient.py:1220: ConvergenceWarning: Maximum number of iteration reached before convergence. Consider increasing max_iter to improve the fit.\n",
      "  warnings.warn(\"Maximum number of iteration reached before \"\n"
     ]
    },
    {
     "name": "stdout",
     "output_type": "stream",
     "text": [
      "DecisionTreeRegressor()\n",
      "DecisionTreeRegressor(criterion='mae')\n",
      "LinearSVR()\n",
      "RandomForestRegressor(n_jobs=2)\n",
      "RandomForestRegressor(n_estimators=150, n_jobs=2)\n",
      "RandomForestRegressor(n_estimators=200, n_jobs=2)\n",
      "XGBRegressor(base_score=None, booster=None, colsample_bylevel=None,\n",
      "             colsample_bynode=None, colsample_bytree=None, gamma=None,\n",
      "             gpu_id=None, importance_type='gain', interaction_constraints=None,\n",
      "             learning_rate=None, max_delta_step=None, max_depth=None,\n",
      "             min_child_weight=None, missing=nan, monotone_constraints=None,\n",
      "             n_estimators=100, n_jobs=None, num_parallel_tree=None,\n",
      "             random_state=None, reg_alpha=None, reg_lambda=None,\n",
      "             scale_pos_weight=None, subsample=None, tree_method=None,\n",
      "             validate_parameters=None, verbosity=None)\n"
     ]
    },
    {
     "data": {
      "text/html": [
       "<div>\n",
       "<style scoped>\n",
       "    .dataframe tbody tr th:only-of-type {\n",
       "        vertical-align: middle;\n",
       "    }\n",
       "\n",
       "    .dataframe tbody tr th {\n",
       "        vertical-align: top;\n",
       "    }\n",
       "\n",
       "    .dataframe thead th {\n",
       "        text-align: right;\n",
       "    }\n",
       "</style>\n",
       "<table border=\"1\" class=\"dataframe\">\n",
       "  <thead>\n",
       "    <tr style=\"text-align: right;\">\n",
       "      <th></th>\n",
       "      <th>Model</th>\n",
       "      <th>MAE</th>\n",
       "      <th>R2</th>\n",
       "    </tr>\n",
       "  </thead>\n",
       "  <tbody>\n",
       "    <tr>\n",
       "      <th>11</th>\n",
       "      <td>XGBRegressor(base_score=0.5, booster='gbtree',...</td>\n",
       "      <td>72764.6959</td>\n",
       "      <td>0.9438</td>\n",
       "    </tr>\n",
       "    <tr>\n",
       "      <th>8</th>\n",
       "      <td>RandomForestRegressor(n_jobs=2)</td>\n",
       "      <td>75586.5132</td>\n",
       "      <td>0.9343</td>\n",
       "    </tr>\n",
       "    <tr>\n",
       "      <th>9</th>\n",
       "      <td>RandomForestRegressor(n_estimators=150, n_jobs=2)</td>\n",
       "      <td>75759.2383</td>\n",
       "      <td>0.9352</td>\n",
       "    </tr>\n",
       "    <tr>\n",
       "      <th>10</th>\n",
       "      <td>RandomForestRegressor(n_estimators=200, n_jobs=2)</td>\n",
       "      <td>75865.5365</td>\n",
       "      <td>0.9347</td>\n",
       "    </tr>\n",
       "    <tr>\n",
       "      <th>5</th>\n",
       "      <td>DecisionTreeRegressor()</td>\n",
       "      <td>82306.1074</td>\n",
       "      <td>0.9412</td>\n",
       "    </tr>\n",
       "    <tr>\n",
       "      <th>6</th>\n",
       "      <td>DecisionTreeRegressor(criterion='mae')</td>\n",
       "      <td>87542.3570</td>\n",
       "      <td>0.8984</td>\n",
       "    </tr>\n",
       "    <tr>\n",
       "      <th>0</th>\n",
       "      <td>LinearRegression(n_jobs=2)</td>\n",
       "      <td>172322.0365</td>\n",
       "      <td>0.8043</td>\n",
       "    </tr>\n",
       "    <tr>\n",
       "      <th>1</th>\n",
       "      <td>LinearRegression(n_jobs=2, normalize=True)</td>\n",
       "      <td>172420.4673</td>\n",
       "      <td>0.8043</td>\n",
       "    </tr>\n",
       "    <tr>\n",
       "      <th>2</th>\n",
       "      <td>SGDRegressor()</td>\n",
       "      <td>179812.5407</td>\n",
       "      <td>0.8109</td>\n",
       "    </tr>\n",
       "    <tr>\n",
       "      <th>7</th>\n",
       "      <td>LinearSVR()</td>\n",
       "      <td>613272.4742</td>\n",
       "      <td>-0.5774</td>\n",
       "    </tr>\n",
       "    <tr>\n",
       "      <th>4</th>\n",
       "      <td>SGDRegressor(loss='epsilon_insensitive', max_i...</td>\n",
       "      <td>630231.3934</td>\n",
       "      <td>-0.6076</td>\n",
       "    </tr>\n",
       "    <tr>\n",
       "      <th>3</th>\n",
       "      <td>SGDRegressor(loss='huber', max_iter=2000)</td>\n",
       "      <td>636182.8891</td>\n",
       "      <td>-0.6180</td>\n",
       "    </tr>\n",
       "  </tbody>\n",
       "</table>\n",
       "</div>"
      ],
      "text/plain": [
       "                                                Model          MAE      R2\n",
       "11  XGBRegressor(base_score=0.5, booster='gbtree',...   72764.6959  0.9438\n",
       "8                     RandomForestRegressor(n_jobs=2)   75586.5132  0.9343\n",
       "9   RandomForestRegressor(n_estimators=150, n_jobs=2)   75759.2383  0.9352\n",
       "10  RandomForestRegressor(n_estimators=200, n_jobs=2)   75865.5365  0.9347\n",
       "5                             DecisionTreeRegressor()   82306.1074  0.9412\n",
       "6              DecisionTreeRegressor(criterion='mae')   87542.3570  0.8984\n",
       "0                          LinearRegression(n_jobs=2)  172322.0365  0.8043\n",
       "1          LinearRegression(n_jobs=2, normalize=True)  172420.4673  0.8043\n",
       "2                                      SGDRegressor()  179812.5407  0.8109\n",
       "7                                         LinearSVR()  613272.4742 -0.5774\n",
       "4   SGDRegressor(loss='epsilon_insensitive', max_i...  630231.3934 -0.6076\n",
       "3           SGDRegressor(loss='huber', max_iter=2000)  636182.8891 -0.6180"
      ]
     },
     "execution_count": 18,
     "metadata": {},
     "output_type": "execute_result"
    }
   ],
   "source": [
    "from sklearn.metrics import mean_absolute_error\n",
    "from sklearn.metrics import r2_score\n",
    "\n",
    "results = pd.DataFrame(columns=['Model', 'MAE', 'R2'])\n",
    "\n",
    "for model in models:\n",
    "    print(model)\n",
    "    # Bundle preprocessing and modeling code in a pipeline\n",
    "    pipeline = Pipeline(steps=[('preprocessor', preprocessor),\n",
    "                          ('model', model)\n",
    "                         ])\n",
    "\n",
    "    # Preprocessing of training data, fit model \n",
    "    pipeline.fit(X_train, y_train.values.ravel())\n",
    "\n",
    "    # Preprocessing of validation data, get predictions\n",
    "    preds = pipeline.predict(X_valid)\n",
    "\n",
    "    results.loc[len(results)] = [\n",
    "        str(model),\n",
    "        round(mean_absolute_error(y_valid, preds),4),\n",
    "        round(r2_score(y_valid, preds),4)\n",
    "    ]\n",
    "\n",
    "results.sort_values(by='MAE')"
   ]
  }
 ],
 "metadata": {
  "kernelspec": {
   "display_name": "Python 3",
   "language": "python",
   "name": "python3"
  },
  "language_info": {
   "codemirror_mode": {
    "name": "ipython",
    "version": 3
   },
   "file_extension": ".py",
   "mimetype": "text/x-python",
   "name": "python",
   "nbconvert_exporter": "python",
   "pygments_lexer": "ipython3",
   "version": "3.8.8"
  }
 },
 "nbformat": 4,
 "nbformat_minor": 4
}
